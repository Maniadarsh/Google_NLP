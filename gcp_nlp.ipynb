{
 "cells": [
  {
   "cell_type": "code",
   "execution_count": 5,
   "id": "a855e18f-ad82-4cd7-b546-0a15bd002d42",
   "metadata": {},
   "outputs": [
    {
     "name": "stdout",
     "output_type": "stream",
     "text": [
      "text      : Luka Dončić is a Slovenian professional basketball player for the Dallas Mavericks of the National Basketball Association.\n",
      "score     : 40.0%\n",
      "magnitude : 40.0%\n",
      "None\n",
      "================================================================================\n",
      "name           : Luka Dončić\n",
      "type           : PERSON\n",
      "salience       : 75.1%\n",
      "================================================================================\n",
      "name           : Slovenian\n",
      "type           : LOCATION\n",
      "salience       : 12.5%\n",
      "================================================================================\n",
      "name           : Dallas Mavericks\n",
      "type           : ORGANIZATION\n",
      "salience       : 8.0%\n",
      "================================================================================\n",
      "name           : National Basketball Association\n",
      "type           : ORGANIZATION\n",
      "salience       : 4.3%\n",
      "None\n"
     ]
    }
   ],
   "source": [
    "#source: https://codelabs.developers.google.com/codelabs/cloud-natural-language-python3#6\n",
    "\n",
    "from google.cloud import language\n",
    "import os\n",
    "os.environ[\"GOOGLE_APPLICATION_CREDENTIALS\"]=\"/Users/maniadarshsivaram/Downloads/bold-guide-327323-298cd72ca476.json\"\n",
    "\n",
    "def analyze_text_sentiment(text):\n",
    "    client = language.LanguageServiceClient()\n",
    "    document = language.Document(content=text, type_=language.Document.Type.PLAIN_TEXT)\n",
    "\n",
    "    response = client.analyze_sentiment(document=document)\n",
    "\n",
    "    sentiment = response.document_sentiment\n",
    "    results = dict(\n",
    "        text=text,\n",
    "        score=f\"{sentiment.score:.1%}\",\n",
    "        magnitude=f\"{sentiment.magnitude:.1%}\",\n",
    "    )\n",
    "    for k, v in results.items():\n",
    "        print(f\"{k:10}: {v}\")\n",
    "        \n",
    "def analyze_text_entities(text):\n",
    "    client = language.LanguageServiceClient()\n",
    "    document = language.Document(content=text, type_=language.Document.Type.PLAIN_TEXT)\n",
    "\n",
    "    response = client.analyze_entities(document=document)\n",
    "\n",
    "    for entity in response.entities:\n",
    "        print(\"=\" * 80)\n",
    "        results = dict(\n",
    "            name=entity.name,\n",
    "            type=entity.type_.name,\n",
    "            salience=f\"{entity.salience:.1%}\"\n",
    "        )\n",
    "        for k, v in results.items():\n",
    "            print(f\"{k:15}: {v}\")\n",
    "            \n",
    "text = \"Luka Dončić is a Slovenian professional basketball player for the Dallas Mavericks of the National Basketball Association.\"\n",
    "print(analyze_text_sentiment(text))\n",
    "print(analyze_text_entities(text))"
   ]
  },
  {
   "cell_type": "code",
   "execution_count": null,
   "id": "8a4e30ab-ead9-4526-beda-c53e5957fb96",
   "metadata": {},
   "outputs": [],
   "source": []
  },
  {
   "cell_type": "code",
   "execution_count": null,
   "id": "a277c157-90d4-49e5-be20-6ec0f4fc0531",
   "metadata": {},
   "outputs": [],
   "source": []
  },
  {
   "cell_type": "code",
   "execution_count": null,
   "id": "db2436e2-8aae-40f9-a504-0f5248552719",
   "metadata": {},
   "outputs": [],
   "source": []
  }
 ],
 "metadata": {
  "kernelspec": {
   "display_name": "Python 3",
   "language": "python",
   "name": "python3"
  },
  "language_info": {
   "codemirror_mode": {
    "name": "ipython",
    "version": 3
   },
   "file_extension": ".py",
   "mimetype": "text/x-python",
   "name": "python",
   "nbconvert_exporter": "python",
   "pygments_lexer": "ipython3",
   "version": "3.8.8"
  }
 },
 "nbformat": 4,
 "nbformat_minor": 5
}
